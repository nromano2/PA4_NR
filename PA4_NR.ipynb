{
 "cells": [
  {
   "cell_type": "markdown",
   "id": "90e02d0a",
   "metadata": {},
   "source": [
    "## Programming Assignment 4\n",
    "#### Author: Nick Romano\n",
    "#### Version 1.0\n",
    "#### Fall 2021 CS 150-02 Computer Programming for the Liberal Arts"
   ]
  },
  {
   "cell_type": "markdown",
   "id": "262de466",
   "metadata": {},
   "source": [
    "**Built in Functions for Lists:**"
   ]
  },
  {
   "cell_type": "markdown",
   "id": "03b0a240",
   "metadata": {},
   "source": [
    "**i. append()**"
   ]
  },
  {
   "cell_type": "markdown",
   "id": "6222484c",
   "metadata": {},
   "source": [
    "The built in append() function allows for a signle element to be added onto a list, but the element is placed at the end of the specificed list"
   ]
  },
  {
   "cell_type": "code",
   "execution_count": 1,
   "id": "c10727f8",
   "metadata": {},
   "outputs": [
    {
     "data": {
      "text/plain": [
       "[36, 79, 25, 49, 27, 54, 56, 26, 68, 27]"
      ]
     },
     "execution_count": 1,
     "metadata": {},
     "output_type": "execute_result"
    }
   ],
   "source": [
    "import random\n",
    "numberslist = list(random.randrange(1,101) for i in range (10))\n",
    "numberslist"
   ]
  },
  {
   "cell_type": "code",
   "execution_count": 2,
   "id": "c096385e",
   "metadata": {},
   "outputs": [
    {
     "data": {
      "text/plain": [
       "[36, 79, 25, 49, 27, 54, 56, 26, 68, 27, 74]"
      ]
     },
     "execution_count": 2,
     "metadata": {},
     "output_type": "execute_result"
    }
   ],
   "source": [
    "numberslist.append(74)\n",
    "numberslist"
   ]
  },
  {
   "cell_type": "markdown",
   "id": "69433723",
   "metadata": {},
   "source": [
    "In this example of the built in append() function, I created a list called numberslist whose elements consist of 10 randomly selected numbers from 1 to 100. Then I used the append() function to add the number 74 onto the end of the numberslist list. "
   ]
  },
  {
   "cell_type": "markdown",
   "id": "d20c839e",
   "metadata": {},
   "source": [
    "**ii. extend()**"
   ]
  },
  {
   "cell_type": "markdown",
   "id": "ea5335e3",
   "metadata": {},
   "source": [
    "The built in extend() function allows for the elements of another list to be added onto the end of a given list."
   ]
  },
  {
   "cell_type": "code",
   "execution_count": 3,
   "id": "e1cd8f06",
   "metadata": {},
   "outputs": [
    {
     "data": {
      "text/plain": [
       "[10, 12, 68, 9, 24, 86, 17, 46, 57, 26]"
      ]
     },
     "execution_count": 3,
     "metadata": {},
     "output_type": "execute_result"
    }
   ],
   "source": [
    "import random\n",
    "numberslist1 = list(random.randrange(1,101) for i in range (10))\n",
    "numberslist1"
   ]
  },
  {
   "cell_type": "code",
   "execution_count": 4,
   "id": "c05cf07e",
   "metadata": {},
   "outputs": [
    {
     "data": {
      "text/plain": [
       "[56, 53, 71, 5, 87, 83, 100, 6, 8, 98]"
      ]
     },
     "execution_count": 4,
     "metadata": {},
     "output_type": "execute_result"
    }
   ],
   "source": [
    "import random\n",
    "numberslist2 = list(random.randrange(1,101) for i in range (10))\n",
    "numberslist2"
   ]
  },
  {
   "cell_type": "code",
   "execution_count": 5,
   "id": "46d704ae",
   "metadata": {},
   "outputs": [
    {
     "name": "stdout",
     "output_type": "stream",
     "text": [
      "[10, 12, 68, 9, 24, 86, 17, 46, 57, 26, 56, 53, 71, 5, 87, 83, 100, 6, 8, 98] "
     ]
    }
   ],
   "source": [
    "numberslist1.extend(numberslist2)\n",
    "print(numberslist1, end=' ')"
   ]
  },
  {
   "cell_type": "markdown",
   "id": "4bf4d7ad",
   "metadata": {},
   "source": [
    "In this example of the built in extend() function, I created two lists called numberslist1 and numberslist2 whose elements both consist of 10 randomly selected numbers from 1 to 100. Then I used the built in extend() function to add the numberslist2 list onto the end of the numberslist1 list. "
   ]
  },
  {
   "cell_type": "markdown",
   "id": "0374a072",
   "metadata": {},
   "source": [
    "**iii. insert()**"
   ]
  },
  {
   "cell_type": "markdown",
   "id": "a995c0e1",
   "metadata": {},
   "source": [
    "The built in insert() function allows for an element to be inserted into a given list at a particular index position within that list."
   ]
  },
  {
   "cell_type": "code",
   "execution_count": 6,
   "id": "7bea2f30",
   "metadata": {},
   "outputs": [
    {
     "data": {
      "text/plain": [
       "[20, 52, 11, 63, 51, 63, 32, 6, 28, 54]"
      ]
     },
     "execution_count": 6,
     "metadata": {},
     "output_type": "execute_result"
    }
   ],
   "source": [
    "import random\n",
    "numberslist = list(random.randrange(1,101) for i in range (10))\n",
    "numberslist"
   ]
  },
  {
   "cell_type": "code",
   "execution_count": 7,
   "id": "b6fbdc3b",
   "metadata": {},
   "outputs": [
    {
     "data": {
      "text/plain": [
       "[20, 52, 11, 63, 51, 63, 48, 32, 6, 28, 54]"
      ]
     },
     "execution_count": 7,
     "metadata": {},
     "output_type": "execute_result"
    }
   ],
   "source": [
    "numberslist.insert(6, 48)\n",
    "numberslist"
   ]
  },
  {
   "cell_type": "markdown",
   "id": "7c55baa2",
   "metadata": {},
   "source": [
    "In this example of the built in insert() function, I created a list whose elements consist of 10 randomly selected numbers from 1 to 100. Then I used the built in insert() function to insert the number 48 in the 6th index position of the numberslist list."
   ]
  },
  {
   "cell_type": "markdown",
   "id": "fa76d33d",
   "metadata": {},
   "source": [
    "**iv. remove()**"
   ]
  },
  {
   "cell_type": "markdown",
   "id": "bc6ed9ef",
   "metadata": {},
   "source": [
    "The built in remove() function clears a particular element from a list."
   ]
  },
  {
   "cell_type": "code",
   "execution_count": 8,
   "id": "74b25893",
   "metadata": {},
   "outputs": [
    {
     "data": {
      "text/plain": [
       "[29, 47, 65, 12, 11, 55, 52, 78, 33, 32]"
      ]
     },
     "execution_count": 8,
     "metadata": {},
     "output_type": "execute_result"
    }
   ],
   "source": [
    "import random\n",
    "numberslist = list(random.randrange(1,101) for i in range (10))\n",
    "numberslist"
   ]
  },
  {
   "cell_type": "code",
   "execution_count": 9,
   "id": "911b4128",
   "metadata": {},
   "outputs": [
    {
     "data": {
      "text/plain": [
       "[29, 47, 65, 12, 55, 52, 78, 33, 32]"
      ]
     },
     "execution_count": 9,
     "metadata": {},
     "output_type": "execute_result"
    }
   ],
   "source": [
    "numberslist.remove(11)\n",
    "numberslist"
   ]
  },
  {
   "cell_type": "markdown",
   "id": "70b12ed5",
   "metadata": {},
   "source": [
    "In this example of the built in remove() function, I created a list called numberslist whose elements consist of 10 randomly selected numbers from 1 to 100. Then I used the remove() function to remove the integer 11 from the numberslist list. With the 11 removed from the list, the numberslist becomes: [29, 47, 65, 12, 55, 52, 78, 33, 32}"
   ]
  },
  {
   "cell_type": "markdown",
   "id": "9df97806",
   "metadata": {},
   "source": [
    "**v. count()**"
   ]
  },
  {
   "cell_type": "markdown",
   "id": "0075a282",
   "metadata": {},
   "source": [
    "The built in count() function finds the amount of times a particular element occurs within a list and brings back the number of times that it found that element."
   ]
  },
  {
   "cell_type": "code",
   "execution_count": 13,
   "id": "c1e4a977",
   "metadata": {},
   "outputs": [
    {
     "data": {
      "text/plain": [
       "[51, 28, 69, 1, 88, 53, 57, 69, 40, 26]"
      ]
     },
     "execution_count": 13,
     "metadata": {},
     "output_type": "execute_result"
    }
   ],
   "source": [
    "import random\n",
    "numberslist = list(random.randrange(1,101) for i in range (10))\n",
    "numberslist"
   ]
  },
  {
   "cell_type": "code",
   "execution_count": 14,
   "id": "5e4d7d90",
   "metadata": {},
   "outputs": [
    {
     "data": {
      "text/plain": [
       "2"
      ]
     },
     "execution_count": 14,
     "metadata": {},
     "output_type": "execute_result"
    }
   ],
   "source": [
    "numberslist.count(69)"
   ]
  },
  {
   "cell_type": "markdown",
   "id": "46832ece",
   "metadata": {},
   "source": [
    "In this example of the built in count() function, I created a list called numberslist whose elements consist of 10 randomly selected numbers from 1 to 100. Then I used the count() function to count how many times the integer 69 appears in the numberslist. It returns 2 since the integer 69 appears twice in the list"
   ]
  },
  {
   "cell_type": "markdown",
   "id": "006215fe",
   "metadata": {},
   "source": [
    "**vi. index()**"
   ]
  },
  {
   "cell_type": "markdown",
   "id": "3be7f4f8",
   "metadata": {},
   "source": [
    "The built in index() function looks for and returns the index position of a particular value within the list. "
   ]
  },
  {
   "cell_type": "code",
   "execution_count": 15,
   "id": "1fba75eb",
   "metadata": {},
   "outputs": [
    {
     "data": {
      "text/plain": [
       "[78, 3, 32, 33, 72, 76, 42, 63, 97, 33]"
      ]
     },
     "execution_count": 15,
     "metadata": {},
     "output_type": "execute_result"
    }
   ],
   "source": [
    "import random\n",
    "numberslist = list(random.randrange(1,101) for i in range (10))\n",
    "numberslist"
   ]
  },
  {
   "cell_type": "code",
   "execution_count": 16,
   "id": "580e011c",
   "metadata": {},
   "outputs": [
    {
     "data": {
      "text/plain": [
       "3"
      ]
     },
     "execution_count": 16,
     "metadata": {},
     "output_type": "execute_result"
    }
   ],
   "source": [
    "numberslist.index(33)"
   ]
  },
  {
   "cell_type": "markdown",
   "id": "d1d3f04b",
   "metadata": {},
   "source": [
    "For this example of the built in index() function, I created a list whose elements consist of 10 randomly selected numbers from 1 to 100. Then the line numberslist.index(33) searches for the index position of the element 33 within the list called numberslist. It returns 3, since the first 33 holds the 3rd index position within the numberslist."
   ]
  },
  {
   "cell_type": "markdown",
   "id": "14875b71",
   "metadata": {},
   "source": [
    "**vii. pop()**"
   ]
  },
  {
   "cell_type": "markdown",
   "id": "e696c8ec",
   "metadata": {},
   "source": [
    "The built in pop() function will shorten a given list by taking away the element that fills the last index position of that list. "
   ]
  },
  {
   "cell_type": "code",
   "execution_count": 17,
   "id": "6915fa68",
   "metadata": {},
   "outputs": [
    {
     "data": {
      "text/plain": [
       "[58, 28, 49, 7, 99, 20, 6, 93, 29, 50]"
      ]
     },
     "execution_count": 17,
     "metadata": {},
     "output_type": "execute_result"
    }
   ],
   "source": [
    "import random\n",
    "numberslist = list(random.randrange(1,101) for i in range (10))\n",
    "numberslist"
   ]
  },
  {
   "cell_type": "code",
   "execution_count": 18,
   "id": "971b4b59",
   "metadata": {},
   "outputs": [
    {
     "data": {
      "text/plain": [
       "[58, 28, 49, 7, 99, 20, 6, 93, 29]"
      ]
     },
     "execution_count": 18,
     "metadata": {},
     "output_type": "execute_result"
    }
   ],
   "source": [
    "numberslist.pop()\n",
    "numberslist"
   ]
  },
  {
   "cell_type": "markdown",
   "id": "25b50298",
   "metadata": {},
   "source": [
    "In this example of the built in pop() function, I created a list called numberslist whose elements consist of 10 randomly selected numbers from 1 to 100. Then i used the built in pop() function to remove the number 50 from the list called numberslist."
   ]
  },
  {
   "cell_type": "markdown",
   "id": "94f119dd",
   "metadata": {},
   "source": [
    "**viii. sorted()**"
   ]
  },
  {
   "cell_type": "markdown",
   "id": "523a7f07",
   "metadata": {},
   "source": [
    "The built in sorted() function organizing of a particular list in increasing order based on what type of elements that it contains. "
   ]
  },
  {
   "cell_type": "code",
   "execution_count": 19,
   "id": "a61a05e7",
   "metadata": {},
   "outputs": [
    {
     "data": {
      "text/plain": [
       "[69, 85, 43, 13, 57, 29, 10, 92, 49, 81]"
      ]
     },
     "execution_count": 19,
     "metadata": {},
     "output_type": "execute_result"
    }
   ],
   "source": [
    "import random\n",
    "numberslist = list(random.randrange(1,101) for i in range (10))\n",
    "numberslist"
   ]
  },
  {
   "cell_type": "code",
   "execution_count": 20,
   "id": "0ed6b005",
   "metadata": {},
   "outputs": [
    {
     "data": {
      "text/plain": [
       "[10, 13, 29, 43, 49, 57, 69, 81, 85, 92]"
      ]
     },
     "execution_count": 20,
     "metadata": {},
     "output_type": "execute_result"
    }
   ],
   "source": [
    "organized_numberslist = sorted(numberslist)\n",
    "organized_numberslist"
   ]
  },
  {
   "cell_type": "markdown",
   "id": "639aa55e",
   "metadata": {},
   "source": [
    "For this example of the built in sorted() function, I created a list that consists of 10 randomly selected numbers between 1 and 100. Then I crested a new list called organized_numberslist that consists of the elements of the numberslist from smallest to largest. "
   ]
  },
  {
   "cell_type": "markdown",
   "id": "9d3ac41f",
   "metadata": {},
   "source": [
    "**ix. copy()**"
   ]
  },
  {
   "cell_type": "markdown",
   "id": "ff55a13d",
   "metadata": {},
   "source": [
    "The built in copy() function makes a duplicate of a given list. "
   ]
  },
  {
   "cell_type": "code",
   "execution_count": 21,
   "id": "96b0bea4",
   "metadata": {},
   "outputs": [
    {
     "data": {
      "text/plain": [
       "[93, 56, 96, 76, 78, 1, 60, 57, 16, 21]"
      ]
     },
     "execution_count": 21,
     "metadata": {},
     "output_type": "execute_result"
    }
   ],
   "source": [
    "import random\n",
    "numberslist = list(random.randrange(1,101) for i in range (10))\n",
    "numberslist"
   ]
  },
  {
   "cell_type": "code",
   "execution_count": 22,
   "id": "479cbd64",
   "metadata": {},
   "outputs": [
    {
     "data": {
      "text/plain": [
       "[93, 56, 96, 76, 78, 1, 60, 57, 16, 21]"
      ]
     },
     "execution_count": 22,
     "metadata": {},
     "output_type": "execute_result"
    }
   ],
   "source": [
    "numberslist1 = numberslist.copy()\n",
    "numberslist1"
   ]
  },
  {
   "cell_type": "markdown",
   "id": "73cef8f3",
   "metadata": {},
   "source": [
    "In this example of the built in copy() function, I created a list called numberslist whose elements consist of 10 randomly selected numbers from 1 to 100. Then I made a copy of the numberslist and stored the copy into a list called numberslist1. "
   ]
  },
  {
   "cell_type": "markdown",
   "id": "f08ff118",
   "metadata": {},
   "source": [
    "**x. clear()**"
   ]
  },
  {
   "cell_type": "markdown",
   "id": "d1f1f4e5",
   "metadata": {},
   "source": [
    "The built in clear() function removes all the of elements of a given list, making the list at hand an into empty list, with no elements."
   ]
  },
  {
   "cell_type": "code",
   "execution_count": 23,
   "id": "a48236cd",
   "metadata": {},
   "outputs": [
    {
     "data": {
      "text/plain": [
       "[80, 1, 41, 77, 10, 74, 68, 60, 41, 13]"
      ]
     },
     "execution_count": 23,
     "metadata": {},
     "output_type": "execute_result"
    }
   ],
   "source": [
    "import random\n",
    "numberslist = list(random.randrange(1,101) for i in range (10))\n",
    "numberslist"
   ]
  },
  {
   "cell_type": "code",
   "execution_count": 24,
   "id": "b9c1118d",
   "metadata": {},
   "outputs": [
    {
     "data": {
      "text/plain": [
       "[]"
      ]
     },
     "execution_count": 24,
     "metadata": {},
     "output_type": "execute_result"
    }
   ],
   "source": [
    "numberslist.clear()\n",
    "numberslist"
   ]
  },
  {
   "cell_type": "markdown",
   "id": "97432808",
   "metadata": {},
   "source": [
    "In this example of the built in clear() function, I created a list called numberslist whose elements consist of 10 randomly selected numbers from 1 to 100. After creating the numberslist, I used the clear() function to make the numberslist an empty list with no elements. "
   ]
  },
  {
   "cell_type": "markdown",
   "id": "71612a49",
   "metadata": {},
   "source": [
    "**xi. any()**"
   ]
  },
  {
   "cell_type": "markdown",
   "id": "e370a647",
   "metadata": {},
   "source": [
    "The built in any() function test to see the truth/falsity of the elements for a list. The any() function is True if one or more of the elements is True, or returns false if none of the elements are true"
   ]
  },
  {
   "cell_type": "code",
   "execution_count": 25,
   "id": "cdea7690",
   "metadata": {},
   "outputs": [
    {
     "data": {
      "text/plain": [
       "True"
      ]
     },
     "execution_count": 25,
     "metadata": {},
     "output_type": "execute_result"
    }
   ],
   "source": [
    "booleanlist = [True, False, True, 0, 1, 0, 1, 1]\n",
    "any(booleanlist)"
   ]
  },
  {
   "cell_type": "markdown",
   "id": "62d68107",
   "metadata": {},
   "source": [
    "In this example of the built in any() function, I created a list called booleanlist with various boolean values. Since the boolean list consits of some true boolean values then running the list through the any fuction it returned true."
   ]
  },
  {
   "cell_type": "markdown",
   "id": "10e42a20",
   "metadata": {},
   "source": [
    "**xii. filter()**"
   ]
  },
  {
   "cell_type": "markdown",
   "id": "3b0b8e49",
   "metadata": {},
   "source": [
    "The built in filter() function runs each element thorugh some condition and returns only the elements of the given list if the element meets the condition."
   ]
  },
  {
   "cell_type": "code",
   "execution_count": 26,
   "id": "78beae2b",
   "metadata": {},
   "outputs": [],
   "source": [
    "def divisible_by_5(x):\n",
    "    return x % 5 == 0"
   ]
  },
  {
   "cell_type": "code",
   "execution_count": 27,
   "id": "771e065c",
   "metadata": {},
   "outputs": [
    {
     "data": {
      "text/plain": [
       "[74, 20, 64, 100, 32, 82, 89, 65, 86, 25]"
      ]
     },
     "execution_count": 27,
     "metadata": {},
     "output_type": "execute_result"
    }
   ],
   "source": [
    "import random\n",
    "numberslist = list(random.randrange(1,101) for i in range (10))\n",
    "numberslist"
   ]
  },
  {
   "cell_type": "code",
   "execution_count": 28,
   "id": "78654e76",
   "metadata": {},
   "outputs": [
    {
     "data": {
      "text/plain": [
       "[20, 100, 65, 25]"
      ]
     },
     "execution_count": 28,
     "metadata": {},
     "output_type": "execute_result"
    }
   ],
   "source": [
    "list(filter(divisible_by_5, numberslist))"
   ]
  },
  {
   "cell_type": "markdown",
   "id": "b9953b28",
   "metadata": {},
   "source": [
    "In this example of the built in fliter() function, I created a function, called divisible_by_5, that returns values that are divisible by 5. Then I created a list called numberslist whose elements consist of 10 randomly selected numbers from 1 to 100. Then I used the list(), filter(), and divisibile_by_5 function to return the elements within the numberslist list that are divisible by 5. In turn, the elements 20, 100, 65 and 25 were returned in a list since they were the only divisible by 5 in the numberslist list. "
   ]
  },
  {
   "cell_type": "markdown",
   "id": "ba39a00e",
   "metadata": {},
   "source": [
    "**xiii. list()**"
   ]
  },
  {
   "cell_type": "markdown",
   "id": "fc6f16a3",
   "metadata": {},
   "source": [
    "The built in list() function allows for a creation of a list given a set of elements."
   ]
  },
  {
   "cell_type": "code",
   "execution_count": 29,
   "id": "26fd6cf7",
   "metadata": {},
   "outputs": [
    {
     "data": {
      "text/plain": [
       "[40, 55, 20, 47, 91, 89, 49, 76, 33, 14]"
      ]
     },
     "execution_count": 29,
     "metadata": {},
     "output_type": "execute_result"
    }
   ],
   "source": [
    "import random\n",
    "numberslist = list(random.randrange(1,101) for i in range (10))\n",
    "numberslist"
   ]
  },
  {
   "cell_type": "markdown",
   "id": "2a159d29",
   "metadata": {},
   "source": [
    "This example of the built in list() function creates a list called numberslist whose elements are 10 radomly selected numbers from 1 to 100. "
   ]
  },
  {
   "cell_type": "markdown",
   "id": "59ab0ea9",
   "metadata": {},
   "source": [
    "**xiv. map()**"
   ]
  },
  {
   "cell_type": "markdown",
   "id": "71255227",
   "metadata": {},
   "source": [
    "The built in map() function allows for the modification the elements of a given list, by running the list's elements through some function. "
   ]
  },
  {
   "cell_type": "code",
   "execution_count": 30,
   "id": "53f88dd7",
   "metadata": {},
   "outputs": [],
   "source": [
    "def two_x_minus_three(x):\n",
    "    return(2*x-3)"
   ]
  },
  {
   "cell_type": "code",
   "execution_count": 31,
   "id": "55481dea",
   "metadata": {},
   "outputs": [
    {
     "data": {
      "text/plain": [
       "[41, 18, 6, 78, 94, 10, 40, 37, 52, 50]"
      ]
     },
     "execution_count": 31,
     "metadata": {},
     "output_type": "execute_result"
    }
   ],
   "source": [
    "import random\n",
    "numberslist = list(random.randrange(1,101) for i in range (10))\n",
    "numberslist"
   ]
  },
  {
   "cell_type": "code",
   "execution_count": 32,
   "id": "6ac4bad8",
   "metadata": {},
   "outputs": [
    {
     "data": {
      "text/plain": [
       "[79, 33, 9, 153, 185, 17, 77, 71, 101, 97]"
      ]
     },
     "execution_count": 32,
     "metadata": {},
     "output_type": "execute_result"
    }
   ],
   "source": [
    "list(map(two_x_minus_three, numberslist))"
   ]
  },
  {
   "cell_type": "markdown",
   "id": "471118fe",
   "metadata": {},
   "source": [
    "In this example of the built in fliter() function, I created a function called two_x_minus_three that returns the returns the result of multipliyng a number by three then subtracting the result by three.. Then I created a list called numberslist whose elements consist of 10 randomly selected numbers from 1 to 100. Then I used the list(), map(), and  two_x_minus_three() functions to return a modified numberslist list where the elements of the numberslist go through the two_x_minus_three() function."
   ]
  },
  {
   "cell_type": "markdown",
   "id": "9bd3e5b7",
   "metadata": {},
   "source": [
    " "
   ]
  },
  {
   "cell_type": "markdown",
   "id": "953c3226",
   "metadata": {},
   "source": [
    "**Built in Functions for Tuples**"
   ]
  },
  {
   "cell_type": "markdown",
   "id": "41eb77ef",
   "metadata": {},
   "source": [
    "**i. cmp()**"
   ]
  },
  {
   "cell_type": "markdown",
   "id": "3b0e0e32",
   "metadata": {},
   "source": [
    "Not apart of Python 3"
   ]
  },
  {
   "cell_type": "markdown",
   "id": "baf5035f",
   "metadata": {},
   "source": [
    "**ii. len()**"
   ]
  },
  {
   "cell_type": "markdown",
   "id": "52608572",
   "metadata": {},
   "source": [
    "The built in len() function measures the amount of elements that are within the tuple and returns that number."
   ]
  },
  {
   "cell_type": "code",
   "execution_count": 33,
   "id": "fe4f8fec",
   "metadata": {},
   "outputs": [
    {
     "data": {
      "text/plain": [
       "(5, 12, 18, 19, 33, 55, 80, 94, 46, 38)"
      ]
     },
     "execution_count": 33,
     "metadata": {},
     "output_type": "execute_result"
    }
   ],
   "source": [
    "import random\n",
    "numberstuple = tuple((random.randrange(1, 101) for i in range(10)))\n",
    "numberstuple"
   ]
  },
  {
   "cell_type": "code",
   "execution_count": 34,
   "id": "10e0297b",
   "metadata": {},
   "outputs": [
    {
     "data": {
      "text/plain": [
       "10"
      ]
     },
     "execution_count": 34,
     "metadata": {},
     "output_type": "execute_result"
    }
   ],
   "source": [
    "len(numberstuple)"
   ]
  },
  {
   "cell_type": "markdown",
   "id": "48eec95e",
   "metadata": {},
   "source": [
    "In this example, I created a tuple called numberstuple that consist of 10 elements that are numbers randomly selected from 1 to 100. After I created the tuple called numberstuple, I used the len() function which returns the number of elements within the tuple (10). "
   ]
  },
  {
   "cell_type": "markdown",
   "id": "21c6d561",
   "metadata": {},
   "source": [
    "**iii. max()**"
   ]
  },
  {
   "cell_type": "markdown",
   "id": "27e5b7e4",
   "metadata": {},
   "source": [
    "The built in max() function returns the largest element within a given tuple. "
   ]
  },
  {
   "cell_type": "code",
   "execution_count": 35,
   "id": "25e3dc8a",
   "metadata": {},
   "outputs": [
    {
     "data": {
      "text/plain": [
       "(56, 46, 5, 83, 86, 7, 98, 7, 14, 69)"
      ]
     },
     "execution_count": 35,
     "metadata": {},
     "output_type": "execute_result"
    }
   ],
   "source": [
    "import random\n",
    "numberstuple = tuple((random.randrange(1, 101) for i in range(10)))\n",
    "numberstuple"
   ]
  },
  {
   "cell_type": "code",
   "execution_count": 36,
   "id": "c003f52a",
   "metadata": {},
   "outputs": [
    {
     "data": {
      "text/plain": [
       "98"
      ]
     },
     "execution_count": 36,
     "metadata": {},
     "output_type": "execute_result"
    }
   ],
   "source": [
    "max(numberstuple)"
   ]
  },
  {
   "cell_type": "markdown",
   "id": "7b1bad9a",
   "metadata": {},
   "source": [
    "In this example, I created a tuple called numberstuple that consist of 10 elements that are numbers randomly selected from 1 to 100. After I created the tuple called numberstuple, I used the max() function to see what was the largest element within the tuple. The max function returned 98."
   ]
  },
  {
   "cell_type": "markdown",
   "id": "3687b21d",
   "metadata": {},
   "source": [
    "**iv. teuple(seq)**"
   ]
  },
  {
   "cell_type": "markdown",
   "id": "78756a70",
   "metadata": {},
   "source": [
    "The built in tuple(seq) function forms a tuple based on a given set of elements."
   ]
  },
  {
   "cell_type": "code",
   "execution_count": 37,
   "id": "eb30ecdc",
   "metadata": {},
   "outputs": [
    {
     "data": {
      "text/plain": [
       "(64, 1, 67, 94, 51, 31, 92, 93, 100, 18)"
      ]
     },
     "execution_count": 37,
     "metadata": {},
     "output_type": "execute_result"
    }
   ],
   "source": [
    "import random\n",
    "numberstuple = tuple(random.randrange(1,101) for i in range (10))\n",
    "numberstuple"
   ]
  },
  {
   "cell_type": "markdown",
   "id": "3c240595",
   "metadata": {},
   "source": [
    "In this example, I created a tuple called numberstuple that consist of 10 elements that are numbers randomly selected from 1 to 100."
   ]
  },
  {
   "cell_type": "markdown",
   "id": "ff6b08dc",
   "metadata": {},
   "source": [
    "#### Bonus Programming Practice"
   ]
  },
  {
   "cell_type": "code",
   "execution_count": 38,
   "id": "2c9d8be0-2e4d-4ae9-933b-fe1ad89ae048",
   "metadata": {},
   "outputs": [
    {
     "data": {
      "text/plain": [
       "(20, 'Nick', 'Romano')"
      ]
     },
     "execution_count": 38,
     "metadata": {},
     "output_type": "execute_result"
    }
   ],
   "source": [
    "tuple1 = ('Nick', 'Romano', 20)\n",
    "\n",
    "def rotate(data):\n",
    "    firstname, lastname, age = data\n",
    "    rotated_data = age, firstname, lastname\n",
    "    return(rotated_data)\n",
    "\n",
    "rotate(tuple1)"
   ]
  },
  {
   "cell_type": "code",
   "execution_count": 39,
   "id": "5e2e4b13",
   "metadata": {},
   "outputs": [
    {
     "name": "stdout",
     "output_type": "stream",
     "text": [
      "Original list:  [62, 90, 13, 37, 60, 2, 13, 7, 49, 87]\n",
      "Modified list:  [1, 1, -1, -1, 1, 1, -1, -1, -1, -1]\n"
     ]
    }
   ],
   "source": [
    "import random\n",
    "numberslist = [random.randrange(1, 101) for i in range(10)]\n",
    "\n",
    "def encode(data):\n",
    "    modified_data = [1 if number % 2 == 0 else -1 for number in data]\n",
    "    print(\"Original list: \", data)\n",
    "    print(\"Modified list: \", modified_data)\n",
    "\n",
    "encode(numberslist)"
   ]
  }
 ],
 "metadata": {
  "kernelspec": {
   "display_name": "Python 3",
   "language": "python",
   "name": "python3"
  },
  "language_info": {
   "codemirror_mode": {
    "name": "ipython",
    "version": 3
   },
   "file_extension": ".py",
   "mimetype": "text/x-python",
   "name": "python",
   "nbconvert_exporter": "python",
   "pygments_lexer": "ipython3",
   "version": "3.8.8"
  }
 },
 "nbformat": 4,
 "nbformat_minor": 5
}
